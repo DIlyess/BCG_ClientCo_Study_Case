{
 "cells": [
  {
   "cell_type": "code",
   "execution_count": 1,
   "metadata": {},
   "outputs": [],
   "source": [
    "%reload_ext autoreload\n",
    "%autoreload 2\n",
    "import numpy as np\n",
    "import pandas as pd\n",
    "import matplotlib.pyplot as plt\n",
    "\n",
    "# from pycaret.regression import *\n",
    "\n",
    "from ETL import ETL\n",
    "\n",
    "plt.style.use(\"seaborn-v0_8\")"
   ]
  },
  {
   "cell_type": "code",
   "execution_count": 2,
   "metadata": {},
   "outputs": [],
   "source": [
    "df_yield = pd.read_csv(\"data/barley_yield_from_1982.csv\", sep=\";\")\n",
    "df_climate = pd.read_parquet(\"data/climate_data_from_1982.parquet\")"
   ]
  },
  {
   "cell_type": "code",
   "execution_count": 3,
   "metadata": {},
   "outputs": [
    {
     "name": "stdout",
     "output_type": "stream",
     "text": [
      "Departments/Scenario dropped because of missing values:                           nom_dep  scenario\n",
      "date                                       \n",
      "2015-01-01               Calvados  ssp2_4_5\n",
      "2015-01-01            Deux_Sevres  ssp2_4_5\n",
      "2015-01-01                Essonne  ssp2_4_5\n",
      "2015-01-01                   Eure  ssp2_4_5\n",
      "2015-01-01                  Rhone  ssp2_4_5\n",
      "2015-01-01        Tarn_et_Garonne  ssp2_4_5\n",
      "2015-01-01  Territoire_de_Belfort  ssp2_4_5\n",
      "2015-01-01               Vaucluse  ssp2_4_5\n",
      "Departments dropped because of almost absolute absence of data:\n",
      " ['Hauts_de_Seine' 'Paris' 'Seine_SeineOise']\n"
     ]
    }
   ],
   "source": [
    "df_yield, df_climate = ETL(df_yield, df_climate).run()"
   ]
  }
 ],
 "metadata": {
  "kernelspec": {
   "display_name": "base",
   "language": "python",
   "name": "python3"
  },
  "language_info": {
   "codemirror_mode": {
    "name": "ipython",
    "version": 3
   },
   "file_extension": ".py",
   "mimetype": "text/x-python",
   "name": "python",
   "nbconvert_exporter": "python",
   "pygments_lexer": "ipython3",
   "version": "3.12.2"
  }
 },
 "nbformat": 4,
 "nbformat_minor": 2
}
