{
 "cells": [
  {
   "cell_type": "code",
   "execution_count": 1,
   "metadata": {},
   "outputs": [],
   "source": [
    "%reload_ext autoreload\n",
    "%autoreload 2\n",
    "import numpy as np\n",
    "import pandas as pd\n",
    "import matplotlib.pyplot as plt\n",
    "\n",
    "from sklearn.model_selection import train_test_split\n",
    "from pycaret.regression import RegressionExperiment\n",
    "\n",
    "from etl import ETL\n",
    "from feature_creation import FeatureCreation\n",
    "\n",
    "plt.style.use(\"seaborn-v0_8\")"
   ]
  },
  {
   "cell_type": "code",
   "execution_count": 2,
   "metadata": {},
   "outputs": [],
   "source": [
    "df_yield = pd.read_csv(\"data/barley_yield_from_1982.csv\", sep=\";\")  # 1982 to 2018\n",
    "df_climate = pd.read_parquet(\n",
    "    \"data/climate_data_from_1982.parquet\"\n",
    ")  # 1982-2014 2015-2050"
   ]
  },
  {
   "cell_type": "code",
   "execution_count": 3,
   "metadata": {},
   "outputs": [
    {
     "name": "stdout",
     "output_type": "stream",
     "text": [
      "--- df_climate---\n",
      "Departments/Scenario dropped because of any missing values:                                    nom_dep  scenario\n",
      "date                                                \n",
      "2015-01-01 12:00:00               Calvados  ssp2_4_5\n",
      "2015-01-01 12:00:00            Deux_Sevres  ssp2_4_5\n",
      "2015-01-01 12:00:00                Essonne  ssp2_4_5\n",
      "2015-01-01 12:00:00                   Eure  ssp2_4_5\n",
      "2015-01-01 12:00:00                  Rhone  ssp2_4_5\n",
      "2015-01-01 12:00:00        Tarn_et_Garonne  ssp2_4_5\n",
      "2015-01-01 12:00:00  Territoire_de_Belfort  ssp2_4_5\n",
      "2015-01-01 12:00:00               Vaucluse  ssp2_4_5\n",
      "--- df_yield ---\n",
      "Departments dropped because of almost absolute absence of data:\n",
      " ['Hauts_de_Seine' 'Paris' 'Seine_SeineOise']\n"
     ]
    }
   ],
   "source": [
    "df_yield, df_climate = ETL(df_yield, df_climate).run()"
   ]
  },
  {
   "cell_type": "code",
   "execution_count": 4,
   "metadata": {},
   "outputs": [
    {
     "name": "stdout",
     "output_type": "stream",
     "text": [
      "--- Amplitude feature created ---\n"
     ]
    }
   ],
   "source": [
    "df_hist, df_forecast = FeatureCreation(df_yield, df_climate).run()"
   ]
  },
  {
   "cell_type": "markdown",
   "metadata": {},
   "source": [
    "# Prepare data\n"
   ]
  },
  {
   "cell_type": "code",
   "execution_count": 9,
   "metadata": {},
   "outputs": [],
   "source": [
    "df = df_hist[\n",
    "    ~df_hist.isna().any(axis=1)\n",
    "]  # Remove rows where we have yield but no climate data\n",
    "target = \"yield\"\n",
    "df = df.drop(columns=[\"production\"])"
   ]
  },
  {
   "cell_type": "markdown",
   "metadata": {},
   "source": [
    "# Baseline model comparison\n"
   ]
  },
  {
   "cell_type": "markdown",
   "metadata": {},
   "source": [
    "We will use pycaret to quickly compare the performance of different models on the dataset before actually selecting the best model for further tuning.\n"
   ]
  },
  {
   "cell_type": "code",
   "execution_count": 10,
   "metadata": {},
   "outputs": [
    {
     "data": {
      "text/html": [
       "<style type=\"text/css\">\n",
       "#T_f1b74_row8_col1 {\n",
       "  background-color: lightgreen;\n",
       "}\n",
       "</style>\n",
       "<table id=\"T_f1b74\">\n",
       "  <thead>\n",
       "    <tr>\n",
       "      <th class=\"blank level0\" >&nbsp;</th>\n",
       "      <th id=\"T_f1b74_level0_col0\" class=\"col_heading level0 col0\" >Description</th>\n",
       "      <th id=\"T_f1b74_level0_col1\" class=\"col_heading level0 col1\" >Value</th>\n",
       "    </tr>\n",
       "  </thead>\n",
       "  <tbody>\n",
       "    <tr>\n",
       "      <th id=\"T_f1b74_level0_row0\" class=\"row_heading level0 row0\" >0</th>\n",
       "      <td id=\"T_f1b74_row0_col0\" class=\"data row0 col0\" >Session id</td>\n",
       "      <td id=\"T_f1b74_row0_col1\" class=\"data row0 col1\" >123</td>\n",
       "    </tr>\n",
       "    <tr>\n",
       "      <th id=\"T_f1b74_level0_row1\" class=\"row_heading level0 row1\" >1</th>\n",
       "      <td id=\"T_f1b74_row1_col0\" class=\"data row1 col0\" >Target</td>\n",
       "      <td id=\"T_f1b74_row1_col1\" class=\"data row1 col1\" >yield</td>\n",
       "    </tr>\n",
       "    <tr>\n",
       "      <th id=\"T_f1b74_level0_row2\" class=\"row_heading level0 row2\" >2</th>\n",
       "      <td id=\"T_f1b74_row2_col0\" class=\"data row2 col0\" >Target type</td>\n",
       "      <td id=\"T_f1b74_row2_col1\" class=\"data row2 col1\" >Regression</td>\n",
       "    </tr>\n",
       "    <tr>\n",
       "      <th id=\"T_f1b74_level0_row3\" class=\"row_heading level0 row3\" >3</th>\n",
       "      <td id=\"T_f1b74_row3_col0\" class=\"data row3 col0\" >Original data shape</td>\n",
       "      <td id=\"T_f1b74_row3_col1\" class=\"data row3 col1\" >(2934, 39)</td>\n",
       "    </tr>\n",
       "    <tr>\n",
       "      <th id=\"T_f1b74_level0_row4\" class=\"row_heading level0 row4\" >4</th>\n",
       "      <td id=\"T_f1b74_row4_col0\" class=\"data row4 col0\" >Transformed data shape</td>\n",
       "      <td id=\"T_f1b74_row4_col1\" class=\"data row4 col1\" >(2934, 39)</td>\n",
       "    </tr>\n",
       "    <tr>\n",
       "      <th id=\"T_f1b74_level0_row5\" class=\"row_heading level0 row5\" >5</th>\n",
       "      <td id=\"T_f1b74_row5_col0\" class=\"data row5 col0\" >Transformed train set shape</td>\n",
       "      <td id=\"T_f1b74_row5_col1\" class=\"data row5 col1\" >(2053, 39)</td>\n",
       "    </tr>\n",
       "    <tr>\n",
       "      <th id=\"T_f1b74_level0_row6\" class=\"row_heading level0 row6\" >6</th>\n",
       "      <td id=\"T_f1b74_row6_col0\" class=\"data row6 col0\" >Transformed test set shape</td>\n",
       "      <td id=\"T_f1b74_row6_col1\" class=\"data row6 col1\" >(881, 39)</td>\n",
       "    </tr>\n",
       "    <tr>\n",
       "      <th id=\"T_f1b74_level0_row7\" class=\"row_heading level0 row7\" >7</th>\n",
       "      <td id=\"T_f1b74_row7_col0\" class=\"data row7 col0\" >Numeric features</td>\n",
       "      <td id=\"T_f1b74_row7_col1\" class=\"data row7 col1\" >38</td>\n",
       "    </tr>\n",
       "    <tr>\n",
       "      <th id=\"T_f1b74_level0_row8\" class=\"row_heading level0 row8\" >8</th>\n",
       "      <td id=\"T_f1b74_row8_col0\" class=\"data row8 col0\" >Preprocess</td>\n",
       "      <td id=\"T_f1b74_row8_col1\" class=\"data row8 col1\" >True</td>\n",
       "    </tr>\n",
       "    <tr>\n",
       "      <th id=\"T_f1b74_level0_row9\" class=\"row_heading level0 row9\" >9</th>\n",
       "      <td id=\"T_f1b74_row9_col0\" class=\"data row9 col0\" >Imputation type</td>\n",
       "      <td id=\"T_f1b74_row9_col1\" class=\"data row9 col1\" >simple</td>\n",
       "    </tr>\n",
       "    <tr>\n",
       "      <th id=\"T_f1b74_level0_row10\" class=\"row_heading level0 row10\" >10</th>\n",
       "      <td id=\"T_f1b74_row10_col0\" class=\"data row10 col0\" >Numeric imputation</td>\n",
       "      <td id=\"T_f1b74_row10_col1\" class=\"data row10 col1\" >mean</td>\n",
       "    </tr>\n",
       "    <tr>\n",
       "      <th id=\"T_f1b74_level0_row11\" class=\"row_heading level0 row11\" >11</th>\n",
       "      <td id=\"T_f1b74_row11_col0\" class=\"data row11 col0\" >Categorical imputation</td>\n",
       "      <td id=\"T_f1b74_row11_col1\" class=\"data row11 col1\" >mode</td>\n",
       "    </tr>\n",
       "    <tr>\n",
       "      <th id=\"T_f1b74_level0_row12\" class=\"row_heading level0 row12\" >12</th>\n",
       "      <td id=\"T_f1b74_row12_col0\" class=\"data row12 col0\" >Fold Generator</td>\n",
       "      <td id=\"T_f1b74_row12_col1\" class=\"data row12 col1\" >KFold</td>\n",
       "    </tr>\n",
       "    <tr>\n",
       "      <th id=\"T_f1b74_level0_row13\" class=\"row_heading level0 row13\" >13</th>\n",
       "      <td id=\"T_f1b74_row13_col0\" class=\"data row13 col0\" >Fold Number</td>\n",
       "      <td id=\"T_f1b74_row13_col1\" class=\"data row13 col1\" >10</td>\n",
       "    </tr>\n",
       "    <tr>\n",
       "      <th id=\"T_f1b74_level0_row14\" class=\"row_heading level0 row14\" >14</th>\n",
       "      <td id=\"T_f1b74_row14_col0\" class=\"data row14 col0\" >CPU Jobs</td>\n",
       "      <td id=\"T_f1b74_row14_col1\" class=\"data row14 col1\" >-1</td>\n",
       "    </tr>\n",
       "    <tr>\n",
       "      <th id=\"T_f1b74_level0_row15\" class=\"row_heading level0 row15\" >15</th>\n",
       "      <td id=\"T_f1b74_row15_col0\" class=\"data row15 col0\" >Use GPU</td>\n",
       "      <td id=\"T_f1b74_row15_col1\" class=\"data row15 col1\" >False</td>\n",
       "    </tr>\n",
       "    <tr>\n",
       "      <th id=\"T_f1b74_level0_row16\" class=\"row_heading level0 row16\" >16</th>\n",
       "      <td id=\"T_f1b74_row16_col0\" class=\"data row16 col0\" >Log Experiment</td>\n",
       "      <td id=\"T_f1b74_row16_col1\" class=\"data row16 col1\" >False</td>\n",
       "    </tr>\n",
       "    <tr>\n",
       "      <th id=\"T_f1b74_level0_row17\" class=\"row_heading level0 row17\" >17</th>\n",
       "      <td id=\"T_f1b74_row17_col0\" class=\"data row17 col0\" >Experiment Name</td>\n",
       "      <td id=\"T_f1b74_row17_col1\" class=\"data row17 col1\" >reg-default-name</td>\n",
       "    </tr>\n",
       "    <tr>\n",
       "      <th id=\"T_f1b74_level0_row18\" class=\"row_heading level0 row18\" >18</th>\n",
       "      <td id=\"T_f1b74_row18_col0\" class=\"data row18 col0\" >USI</td>\n",
       "      <td id=\"T_f1b74_row18_col1\" class=\"data row18 col1\" >7ea2</td>\n",
       "    </tr>\n",
       "  </tbody>\n",
       "</table>\n"
      ],
      "text/plain": [
       "<pandas.io.formats.style.Styler at 0x176a5ac10>"
      ]
     },
     "metadata": {},
     "output_type": "display_data"
    },
    {
     "data": {
      "text/plain": [
       "<pycaret.regression.oop.RegressionExperiment at 0x3001b2070>"
      ]
     },
     "execution_count": 10,
     "metadata": {},
     "output_type": "execute_result"
    }
   ],
   "source": [
    "s = RegressionExperiment()\n",
    "s.setup(df, target=target, session_id=123)"
   ]
  },
  {
   "cell_type": "code",
   "execution_count": 12,
   "metadata": {},
   "outputs": [
    {
     "data": {
      "text/html": [],
      "text/plain": [
       "<IPython.core.display.HTML object>"
      ]
     },
     "metadata": {},
     "output_type": "display_data"
    },
    {
     "data": {
      "text/html": [
       "<style type=\"text/css\">\n",
       "#T_9dad2 th {\n",
       "  text-align: left;\n",
       "}\n",
       "#T_9dad2_row0_col0, #T_9dad2_row1_col0, #T_9dad2_row1_col1, #T_9dad2_row1_col2, #T_9dad2_row1_col3, #T_9dad2_row1_col4, #T_9dad2_row1_col5, #T_9dad2_row1_col6, #T_9dad2_row2_col0, #T_9dad2_row2_col1, #T_9dad2_row2_col2, #T_9dad2_row2_col3, #T_9dad2_row2_col4, #T_9dad2_row2_col5, #T_9dad2_row2_col6, #T_9dad2_row3_col0, #T_9dad2_row3_col1, #T_9dad2_row3_col2, #T_9dad2_row3_col3, #T_9dad2_row3_col4, #T_9dad2_row3_col5, #T_9dad2_row3_col6, #T_9dad2_row4_col0, #T_9dad2_row4_col1, #T_9dad2_row4_col2, #T_9dad2_row4_col3, #T_9dad2_row4_col4, #T_9dad2_row4_col5, #T_9dad2_row4_col6, #T_9dad2_row5_col0, #T_9dad2_row5_col1, #T_9dad2_row5_col2, #T_9dad2_row5_col3, #T_9dad2_row5_col4, #T_9dad2_row5_col5, #T_9dad2_row5_col6, #T_9dad2_row6_col0, #T_9dad2_row6_col1, #T_9dad2_row6_col2, #T_9dad2_row6_col3, #T_9dad2_row6_col4, #T_9dad2_row6_col5, #T_9dad2_row6_col6, #T_9dad2_row7_col0, #T_9dad2_row7_col1, #T_9dad2_row7_col2, #T_9dad2_row7_col3, #T_9dad2_row7_col4, #T_9dad2_row7_col5, #T_9dad2_row7_col6, #T_9dad2_row8_col0, #T_9dad2_row8_col1, #T_9dad2_row8_col2, #T_9dad2_row8_col3, #T_9dad2_row8_col4, #T_9dad2_row8_col5, #T_9dad2_row8_col6, #T_9dad2_row9_col0, #T_9dad2_row9_col1, #T_9dad2_row9_col2, #T_9dad2_row9_col3, #T_9dad2_row9_col4, #T_9dad2_row9_col5, #T_9dad2_row9_col6, #T_9dad2_row10_col0, #T_9dad2_row10_col1, #T_9dad2_row10_col2, #T_9dad2_row10_col3, #T_9dad2_row10_col4, #T_9dad2_row10_col5, #T_9dad2_row10_col6, #T_9dad2_row11_col0, #T_9dad2_row11_col1, #T_9dad2_row11_col2, #T_9dad2_row11_col3, #T_9dad2_row11_col4, #T_9dad2_row11_col5, #T_9dad2_row11_col6, #T_9dad2_row12_col0, #T_9dad2_row12_col1, #T_9dad2_row12_col2, #T_9dad2_row12_col3, #T_9dad2_row12_col4, #T_9dad2_row12_col5, #T_9dad2_row12_col6, #T_9dad2_row13_col0, #T_9dad2_row13_col1, #T_9dad2_row13_col2, #T_9dad2_row13_col3, #T_9dad2_row13_col4, #T_9dad2_row13_col5, #T_9dad2_row13_col6, #T_9dad2_row14_col0, #T_9dad2_row14_col1, #T_9dad2_row14_col2, #T_9dad2_row14_col3, #T_9dad2_row14_col4, #T_9dad2_row14_col5, #T_9dad2_row14_col6, #T_9dad2_row15_col0, #T_9dad2_row15_col1, #T_9dad2_row15_col2, #T_9dad2_row15_col3, #T_9dad2_row15_col4, #T_9dad2_row15_col5, #T_9dad2_row15_col6, #T_9dad2_row16_col0, #T_9dad2_row16_col1, #T_9dad2_row16_col2, #T_9dad2_row16_col3, #T_9dad2_row16_col4, #T_9dad2_row16_col5, #T_9dad2_row16_col6, #T_9dad2_row17_col0, #T_9dad2_row17_col1, #T_9dad2_row17_col2, #T_9dad2_row17_col3, #T_9dad2_row17_col4, #T_9dad2_row17_col5, #T_9dad2_row17_col6 {\n",
       "  text-align: left;\n",
       "}\n",
       "#T_9dad2_row0_col1, #T_9dad2_row0_col2, #T_9dad2_row0_col3, #T_9dad2_row0_col4, #T_9dad2_row0_col5, #T_9dad2_row0_col6 {\n",
       "  text-align: left;\n",
       "  background-color: yellow;\n",
       "}\n",
       "#T_9dad2_row0_col7, #T_9dad2_row1_col7, #T_9dad2_row2_col7, #T_9dad2_row3_col7, #T_9dad2_row4_col7, #T_9dad2_row5_col7, #T_9dad2_row6_col7, #T_9dad2_row7_col7, #T_9dad2_row8_col7, #T_9dad2_row9_col7, #T_9dad2_row10_col7, #T_9dad2_row11_col7, #T_9dad2_row12_col7, #T_9dad2_row13_col7, #T_9dad2_row14_col7, #T_9dad2_row16_col7, #T_9dad2_row17_col7 {\n",
       "  text-align: left;\n",
       "  background-color: lightgrey;\n",
       "}\n",
       "#T_9dad2_row15_col7 {\n",
       "  text-align: left;\n",
       "  background-color: yellow;\n",
       "  background-color: lightgrey;\n",
       "}\n",
       "</style>\n",
       "<table id=\"T_9dad2\">\n",
       "  <thead>\n",
       "    <tr>\n",
       "      <th class=\"blank level0\" >&nbsp;</th>\n",
       "      <th id=\"T_9dad2_level0_col0\" class=\"col_heading level0 col0\" >Model</th>\n",
       "      <th id=\"T_9dad2_level0_col1\" class=\"col_heading level0 col1\" >MAE</th>\n",
       "      <th id=\"T_9dad2_level0_col2\" class=\"col_heading level0 col2\" >MSE</th>\n",
       "      <th id=\"T_9dad2_level0_col3\" class=\"col_heading level0 col3\" >RMSE</th>\n",
       "      <th id=\"T_9dad2_level0_col4\" class=\"col_heading level0 col4\" >R2</th>\n",
       "      <th id=\"T_9dad2_level0_col5\" class=\"col_heading level0 col5\" >RMSLE</th>\n",
       "      <th id=\"T_9dad2_level0_col6\" class=\"col_heading level0 col6\" >MAPE</th>\n",
       "      <th id=\"T_9dad2_level0_col7\" class=\"col_heading level0 col7\" >TT (Sec)</th>\n",
       "    </tr>\n",
       "  </thead>\n",
       "  <tbody>\n",
       "    <tr>\n",
       "      <th id=\"T_9dad2_level0_row0\" class=\"row_heading level0 row0\" >knn</th>\n",
       "      <td id=\"T_9dad2_row0_col0\" class=\"data row0 col0\" >K Neighbors Regressor</td>\n",
       "      <td id=\"T_9dad2_row0_col1\" class=\"data row0 col1\" >0.2227</td>\n",
       "      <td id=\"T_9dad2_row0_col2\" class=\"data row0 col2\" >0.1076</td>\n",
       "      <td id=\"T_9dad2_row0_col3\" class=\"data row0 col3\" >0.3275</td>\n",
       "      <td id=\"T_9dad2_row0_col4\" class=\"data row0 col4\" >0.9424</td>\n",
       "      <td id=\"T_9dad2_row0_col5\" class=\"data row0 col5\" >0.0617</td>\n",
       "      <td id=\"T_9dad2_row0_col6\" class=\"data row0 col6\" >0.0500</td>\n",
       "      <td id=\"T_9dad2_row0_col7\" class=\"data row0 col7\" >0.0090</td>\n",
       "    </tr>\n",
       "    <tr>\n",
       "      <th id=\"T_9dad2_level0_row1\" class=\"row_heading level0 row1\" >lightgbm</th>\n",
       "      <td id=\"T_9dad2_row1_col0\" class=\"data row1 col0\" >Light Gradient Boosting Machine</td>\n",
       "      <td id=\"T_9dad2_row1_col1\" class=\"data row1 col1\" >0.3138</td>\n",
       "      <td id=\"T_9dad2_row1_col2\" class=\"data row1 col2\" >0.1660</td>\n",
       "      <td id=\"T_9dad2_row1_col3\" class=\"data row1 col3\" >0.4065</td>\n",
       "      <td id=\"T_9dad2_row1_col4\" class=\"data row1 col4\" >0.9113</td>\n",
       "      <td id=\"T_9dad2_row1_col5\" class=\"data row1 col5\" >0.0806</td>\n",
       "      <td id=\"T_9dad2_row1_col6\" class=\"data row1 col6\" >0.0732</td>\n",
       "      <td id=\"T_9dad2_row1_col7\" class=\"data row1 col7\" >0.1840</td>\n",
       "    </tr>\n",
       "    <tr>\n",
       "      <th id=\"T_9dad2_level0_row2\" class=\"row_heading level0 row2\" >et</th>\n",
       "      <td id=\"T_9dad2_row2_col0\" class=\"data row2 col0\" >Extra Trees Regressor</td>\n",
       "      <td id=\"T_9dad2_row2_col1\" class=\"data row2 col1\" >0.3456</td>\n",
       "      <td id=\"T_9dad2_row2_col2\" class=\"data row2 col2\" >0.2034</td>\n",
       "      <td id=\"T_9dad2_row2_col3\" class=\"data row2 col3\" >0.4502</td>\n",
       "      <td id=\"T_9dad2_row2_col4\" class=\"data row2 col4\" >0.8917</td>\n",
       "      <td id=\"T_9dad2_row2_col5\" class=\"data row2 col5\" >0.0885</td>\n",
       "      <td id=\"T_9dad2_row2_col6\" class=\"data row2 col6\" >0.0806</td>\n",
       "      <td id=\"T_9dad2_row2_col7\" class=\"data row2 col7\" >0.1440</td>\n",
       "    </tr>\n",
       "    <tr>\n",
       "      <th id=\"T_9dad2_level0_row3\" class=\"row_heading level0 row3\" >rf</th>\n",
       "      <td id=\"T_9dad2_row3_col0\" class=\"data row3 col0\" >Random Forest Regressor</td>\n",
       "      <td id=\"T_9dad2_row3_col1\" class=\"data row3 col1\" >0.3594</td>\n",
       "      <td id=\"T_9dad2_row3_col2\" class=\"data row3 col2\" >0.2161</td>\n",
       "      <td id=\"T_9dad2_row3_col3\" class=\"data row3 col3\" >0.4638</td>\n",
       "      <td id=\"T_9dad2_row3_col4\" class=\"data row3 col4\" >0.8848</td>\n",
       "      <td id=\"T_9dad2_row3_col5\" class=\"data row3 col5\" >0.0911</td>\n",
       "      <td id=\"T_9dad2_row3_col6\" class=\"data row3 col6\" >0.0840</td>\n",
       "      <td id=\"T_9dad2_row3_col7\" class=\"data row3 col7\" >0.4050</td>\n",
       "    </tr>\n",
       "    <tr>\n",
       "      <th id=\"T_9dad2_level0_row4\" class=\"row_heading level0 row4\" >gbr</th>\n",
       "      <td id=\"T_9dad2_row4_col0\" class=\"data row4 col0\" >Gradient Boosting Regressor</td>\n",
       "      <td id=\"T_9dad2_row4_col1\" class=\"data row4 col1\" >0.3746</td>\n",
       "      <td id=\"T_9dad2_row4_col2\" class=\"data row4 col2\" >0.2324</td>\n",
       "      <td id=\"T_9dad2_row4_col3\" class=\"data row4 col3\" >0.4809</td>\n",
       "      <td id=\"T_9dad2_row4_col4\" class=\"data row4 col4\" >0.8761</td>\n",
       "      <td id=\"T_9dad2_row4_col5\" class=\"data row4 col5\" >0.0942</td>\n",
       "      <td id=\"T_9dad2_row4_col6\" class=\"data row4 col6\" >0.0872</td>\n",
       "      <td id=\"T_9dad2_row4_col7\" class=\"data row4 col7\" >0.3050</td>\n",
       "    </tr>\n",
       "    <tr>\n",
       "      <th id=\"T_9dad2_level0_row5\" class=\"row_heading level0 row5\" >lr</th>\n",
       "      <td id=\"T_9dad2_row5_col0\" class=\"data row5 col0\" >Linear Regression</td>\n",
       "      <td id=\"T_9dad2_row5_col1\" class=\"data row5 col1\" >0.4428</td>\n",
       "      <td id=\"T_9dad2_row5_col2\" class=\"data row5 col2\" >0.3197</td>\n",
       "      <td id=\"T_9dad2_row5_col3\" class=\"data row5 col3\" >0.5638</td>\n",
       "      <td id=\"T_9dad2_row5_col4\" class=\"data row5 col4\" >0.8298</td>\n",
       "      <td id=\"T_9dad2_row5_col5\" class=\"data row5 col5\" >0.1099</td>\n",
       "      <td id=\"T_9dad2_row5_col6\" class=\"data row5 col6\" >0.1033</td>\n",
       "      <td id=\"T_9dad2_row5_col7\" class=\"data row5 col7\" >0.2360</td>\n",
       "    </tr>\n",
       "    <tr>\n",
       "      <th id=\"T_9dad2_level0_row6\" class=\"row_heading level0 row6\" >ridge</th>\n",
       "      <td id=\"T_9dad2_row6_col0\" class=\"data row6 col0\" >Ridge Regression</td>\n",
       "      <td id=\"T_9dad2_row6_col1\" class=\"data row6 col1\" >0.4448</td>\n",
       "      <td id=\"T_9dad2_row6_col2\" class=\"data row6 col2\" >0.3229</td>\n",
       "      <td id=\"T_9dad2_row6_col3\" class=\"data row6 col3\" >0.5670</td>\n",
       "      <td id=\"T_9dad2_row6_col4\" class=\"data row6 col4\" >0.8280</td>\n",
       "      <td id=\"T_9dad2_row6_col5\" class=\"data row6 col5\" >0.1106</td>\n",
       "      <td id=\"T_9dad2_row6_col6\" class=\"data row6 col6\" >0.1040</td>\n",
       "      <td id=\"T_9dad2_row6_col7\" class=\"data row6 col7\" >0.0080</td>\n",
       "    </tr>\n",
       "    <tr>\n",
       "      <th id=\"T_9dad2_level0_row7\" class=\"row_heading level0 row7\" >br</th>\n",
       "      <td id=\"T_9dad2_row7_col0\" class=\"data row7 col0\" >Bayesian Ridge</td>\n",
       "      <td id=\"T_9dad2_row7_col1\" class=\"data row7 col1\" >0.4446</td>\n",
       "      <td id=\"T_9dad2_row7_col2\" class=\"data row7 col2\" >0.3229</td>\n",
       "      <td id=\"T_9dad2_row7_col3\" class=\"data row7 col3\" >0.5670</td>\n",
       "      <td id=\"T_9dad2_row7_col4\" class=\"data row7 col4\" >0.8280</td>\n",
       "      <td id=\"T_9dad2_row7_col5\" class=\"data row7 col5\" >0.1107</td>\n",
       "      <td id=\"T_9dad2_row7_col6\" class=\"data row7 col6\" >0.1040</td>\n",
       "      <td id=\"T_9dad2_row7_col7\" class=\"data row7 col7\" >0.0080</td>\n",
       "    </tr>\n",
       "    <tr>\n",
       "      <th id=\"T_9dad2_level0_row8\" class=\"row_heading level0 row8\" >ada</th>\n",
       "      <td id=\"T_9dad2_row8_col0\" class=\"data row8 col0\" >AdaBoost Regressor</td>\n",
       "      <td id=\"T_9dad2_row8_col1\" class=\"data row8 col1\" >0.4784</td>\n",
       "      <td id=\"T_9dad2_row8_col2\" class=\"data row8 col2\" >0.3544</td>\n",
       "      <td id=\"T_9dad2_row8_col3\" class=\"data row8 col3\" >0.5944</td>\n",
       "      <td id=\"T_9dad2_row8_col4\" class=\"data row8 col4\" >0.8108</td>\n",
       "      <td id=\"T_9dad2_row8_col5\" class=\"data row8 col5\" >0.1099</td>\n",
       "      <td id=\"T_9dad2_row8_col6\" class=\"data row8 col6\" >0.1061</td>\n",
       "      <td id=\"T_9dad2_row8_col7\" class=\"data row8 col7\" >0.0940</td>\n",
       "    </tr>\n",
       "    <tr>\n",
       "      <th id=\"T_9dad2_level0_row9\" class=\"row_heading level0 row9\" >lar</th>\n",
       "      <td id=\"T_9dad2_row9_col0\" class=\"data row9 col0\" >Least Angle Regression</td>\n",
       "      <td id=\"T_9dad2_row9_col1\" class=\"data row9 col1\" >0.4719</td>\n",
       "      <td id=\"T_9dad2_row9_col2\" class=\"data row9 col2\" >0.3625</td>\n",
       "      <td id=\"T_9dad2_row9_col3\" class=\"data row9 col3\" >0.6013</td>\n",
       "      <td id=\"T_9dad2_row9_col4\" class=\"data row9 col4\" >0.8066</td>\n",
       "      <td id=\"T_9dad2_row9_col5\" class=\"data row9 col5\" >0.1155</td>\n",
       "      <td id=\"T_9dad2_row9_col6\" class=\"data row9 col6\" >0.1089</td>\n",
       "      <td id=\"T_9dad2_row9_col7\" class=\"data row9 col7\" >0.0070</td>\n",
       "    </tr>\n",
       "    <tr>\n",
       "      <th id=\"T_9dad2_level0_row10\" class=\"row_heading level0 row10\" >dt</th>\n",
       "      <td id=\"T_9dad2_row10_col0\" class=\"data row10 col0\" >Decision Tree Regressor</td>\n",
       "      <td id=\"T_9dad2_row10_col1\" class=\"data row10 col1\" >0.5110</td>\n",
       "      <td id=\"T_9dad2_row10_col2\" class=\"data row10 col2\" >0.4415</td>\n",
       "      <td id=\"T_9dad2_row10_col3\" class=\"data row10 col3\" >0.6631</td>\n",
       "      <td id=\"T_9dad2_row10_col4\" class=\"data row10 col4\" >0.7638</td>\n",
       "      <td id=\"T_9dad2_row10_col5\" class=\"data row10 col5\" >0.1238</td>\n",
       "      <td id=\"T_9dad2_row10_col6\" class=\"data row10 col6\" >0.1138</td>\n",
       "      <td id=\"T_9dad2_row10_col7\" class=\"data row10 col7\" >0.0150</td>\n",
       "    </tr>\n",
       "    <tr>\n",
       "      <th id=\"T_9dad2_level0_row11\" class=\"row_heading level0 row11\" >omp</th>\n",
       "      <td id=\"T_9dad2_row11_col0\" class=\"data row11 col0\" >Orthogonal Matching Pursuit</td>\n",
       "      <td id=\"T_9dad2_row11_col1\" class=\"data row11 col1\" >0.6692</td>\n",
       "      <td id=\"T_9dad2_row11_col2\" class=\"data row11 col2\" >0.7537</td>\n",
       "      <td id=\"T_9dad2_row11_col3\" class=\"data row11 col3\" >0.8669</td>\n",
       "      <td id=\"T_9dad2_row11_col4\" class=\"data row11 col4\" >0.5977</td>\n",
       "      <td id=\"T_9dad2_row11_col5\" class=\"data row11 col5\" >0.1602</td>\n",
       "      <td id=\"T_9dad2_row11_col6\" class=\"data row11 col6\" >0.1574</td>\n",
       "      <td id=\"T_9dad2_row11_col7\" class=\"data row11 col7\" >0.0070</td>\n",
       "    </tr>\n",
       "    <tr>\n",
       "      <th id=\"T_9dad2_level0_row12\" class=\"row_heading level0 row12\" >en</th>\n",
       "      <td id=\"T_9dad2_row12_col0\" class=\"data row12 col0\" >Elastic Net</td>\n",
       "      <td id=\"T_9dad2_row12_col1\" class=\"data row12 col1\" >0.6729</td>\n",
       "      <td id=\"T_9dad2_row12_col2\" class=\"data row12 col2\" >0.7677</td>\n",
       "      <td id=\"T_9dad2_row12_col3\" class=\"data row12 col3\" >0.8749</td>\n",
       "      <td id=\"T_9dad2_row12_col4\" class=\"data row12 col4\" >0.5899</td>\n",
       "      <td id=\"T_9dad2_row12_col5\" class=\"data row12 col5\" >0.1623</td>\n",
       "      <td id=\"T_9dad2_row12_col6\" class=\"data row12 col6\" >0.1601</td>\n",
       "      <td id=\"T_9dad2_row12_col7\" class=\"data row12 col7\" >0.0090</td>\n",
       "    </tr>\n",
       "    <tr>\n",
       "      <th id=\"T_9dad2_level0_row13\" class=\"row_heading level0 row13\" >huber</th>\n",
       "      <td id=\"T_9dad2_row13_col0\" class=\"data row13 col0\" >Huber Regressor</td>\n",
       "      <td id=\"T_9dad2_row13_col1\" class=\"data row13 col1\" >0.6915</td>\n",
       "      <td id=\"T_9dad2_row13_col2\" class=\"data row13 col2\" >0.8415</td>\n",
       "      <td id=\"T_9dad2_row13_col3\" class=\"data row13 col3\" >0.9150</td>\n",
       "      <td id=\"T_9dad2_row13_col4\" class=\"data row13 col4\" >0.5525</td>\n",
       "      <td id=\"T_9dad2_row13_col5\" class=\"data row13 col5\" >0.1703</td>\n",
       "      <td id=\"T_9dad2_row13_col6\" class=\"data row13 col6\" >0.1666</td>\n",
       "      <td id=\"T_9dad2_row13_col7\" class=\"data row13 col7\" >0.0250</td>\n",
       "    </tr>\n",
       "    <tr>\n",
       "      <th id=\"T_9dad2_level0_row14\" class=\"row_heading level0 row14\" >lasso</th>\n",
       "      <td id=\"T_9dad2_row14_col0\" class=\"data row14 col0\" >Lasso Regression</td>\n",
       "      <td id=\"T_9dad2_row14_col1\" class=\"data row14 col1\" >0.7028</td>\n",
       "      <td id=\"T_9dad2_row14_col2\" class=\"data row14 col2\" >0.8419</td>\n",
       "      <td id=\"T_9dad2_row14_col3\" class=\"data row14 col3\" >0.9163</td>\n",
       "      <td id=\"T_9dad2_row14_col4\" class=\"data row14 col4\" >0.5502</td>\n",
       "      <td id=\"T_9dad2_row14_col5\" class=\"data row14 col5\" >0.1694</td>\n",
       "      <td id=\"T_9dad2_row14_col6\" class=\"data row14 col6\" >0.1678</td>\n",
       "      <td id=\"T_9dad2_row14_col7\" class=\"data row14 col7\" >0.0090</td>\n",
       "    </tr>\n",
       "    <tr>\n",
       "      <th id=\"T_9dad2_level0_row15\" class=\"row_heading level0 row15\" >llar</th>\n",
       "      <td id=\"T_9dad2_row15_col0\" class=\"data row15 col0\" >Lasso Least Angle Regression</td>\n",
       "      <td id=\"T_9dad2_row15_col1\" class=\"data row15 col1\" >0.7028</td>\n",
       "      <td id=\"T_9dad2_row15_col2\" class=\"data row15 col2\" >0.8419</td>\n",
       "      <td id=\"T_9dad2_row15_col3\" class=\"data row15 col3\" >0.9163</td>\n",
       "      <td id=\"T_9dad2_row15_col4\" class=\"data row15 col4\" >0.5502</td>\n",
       "      <td id=\"T_9dad2_row15_col5\" class=\"data row15 col5\" >0.1694</td>\n",
       "      <td id=\"T_9dad2_row15_col6\" class=\"data row15 col6\" >0.1678</td>\n",
       "      <td id=\"T_9dad2_row15_col7\" class=\"data row15 col7\" >0.0060</td>\n",
       "    </tr>\n",
       "    <tr>\n",
       "      <th id=\"T_9dad2_level0_row16\" class=\"row_heading level0 row16\" >dummy</th>\n",
       "      <td id=\"T_9dad2_row16_col0\" class=\"data row16 col0\" >Dummy Regressor</td>\n",
       "      <td id=\"T_9dad2_row16_col1\" class=\"data row16 col1\" >1.1179</td>\n",
       "      <td id=\"T_9dad2_row16_col2\" class=\"data row16 col2\" >1.8865</td>\n",
       "      <td id=\"T_9dad2_row16_col3\" class=\"data row16 col3\" >1.3723</td>\n",
       "      <td id=\"T_9dad2_row16_col4\" class=\"data row16 col4\" >-0.0040</td>\n",
       "      <td id=\"T_9dad2_row16_col5\" class=\"data row16 col5\" >0.2420</td>\n",
       "      <td id=\"T_9dad2_row16_col6\" class=\"data row16 col6\" >0.2618</td>\n",
       "      <td id=\"T_9dad2_row16_col7\" class=\"data row16 col7\" >0.0080</td>\n",
       "    </tr>\n",
       "    <tr>\n",
       "      <th id=\"T_9dad2_level0_row17\" class=\"row_heading level0 row17\" >par</th>\n",
       "      <td id=\"T_9dad2_row17_col0\" class=\"data row17 col0\" >Passive Aggressive Regressor</td>\n",
       "      <td id=\"T_9dad2_row17_col1\" class=\"data row17 col1\" >9.6685</td>\n",
       "      <td id=\"T_9dad2_row17_col2\" class=\"data row17 col2\" >647.2282</td>\n",
       "      <td id=\"T_9dad2_row17_col3\" class=\"data row17 col3\" >16.1247</td>\n",
       "      <td id=\"T_9dad2_row17_col4\" class=\"data row17 col4\" >-350.9092</td>\n",
       "      <td id=\"T_9dad2_row17_col5\" class=\"data row17 col5\" >0.7722</td>\n",
       "      <td id=\"T_9dad2_row17_col6\" class=\"data row17 col6\" >1.6386</td>\n",
       "      <td id=\"T_9dad2_row17_col7\" class=\"data row17 col7\" >0.0080</td>\n",
       "    </tr>\n",
       "  </tbody>\n",
       "</table>\n"
      ],
      "text/plain": [
       "<pandas.io.formats.style.Styler at 0x31cd93100>"
      ]
     },
     "metadata": {},
     "output_type": "display_data"
    },
    {
     "data": {
      "text/html": [],
      "text/plain": [
       "<IPython.core.display.HTML object>"
      ]
     },
     "metadata": {},
     "output_type": "display_data"
    },
    {
     "name": "stderr",
     "output_type": "stream",
     "text": [
      "/opt/homebrew/Caskroom/miniconda/base/envs/automl/lib/python3.9/site-packages/pycaret/internal/pycaret_experiment/supervised_experiment.py:323: FutureWarning: Styler.applymap has been deprecated. Use Styler.map instead.\n",
      "  master_display_.apply(\n"
     ]
    }
   ],
   "source": [
    "best = s.compare_models()"
   ]
  },
  {
   "cell_type": "markdown",
   "metadata": {},
   "source": [
    "# Train Test Split\n"
   ]
  },
  {
   "cell_type": "code",
   "execution_count": 11,
   "metadata": {},
   "outputs": [],
   "source": [
    "target = \"yield\"\n",
    "X = df.drop(columns=[target])\n",
    "y = df[target]\n",
    "X_train, X_test, y_train, y_test = train_test_split(\n",
    "    X, y, test_size=0.2, random_state=42\n",
    ")"
   ]
  },
  {
   "cell_type": "code",
   "execution_count": 12,
   "metadata": {},
   "outputs": [],
   "source": [
    "from xgboost import XGBRegressor\n",
    "from lightgbm import LGBMRegressor\n",
    "from sklearn.neighbors import KNeighborsRegressor\n",
    "from sklearn.ensemble import RandomForestRegressor, ExtraTreesRegressor\n",
    "from sklearn.pipeline import Pipeline\n",
    "from sklearn.preprocessing import StandardScaler\n",
    "from sklearn.metrics import get_scorer, get_scorer_names"
   ]
  },
  {
   "cell_type": "code",
   "execution_count": 13,
   "metadata": {},
   "outputs": [
    {
     "name": "stdout",
     "output_type": "stream",
     "text": [
      "r2  :  0.7713273260059221\n",
      "neg_mean_absolute_error  :  -0.5187606890764959\n",
      "neg_root_mean_squared_error  :  -0.6968283947912132\n",
      "neg_mean_absolute_percentage_error  :  -0.13250654408729334\n"
     ]
    }
   ],
   "source": [
    "knn = Pipeline(\n",
    "    [\n",
    "        (\"scaler\", StandardScaler()),\n",
    "        (\"knn\", KNeighborsRegressor(n_neighbors=5)),\n",
    "    ]\n",
    ")\n",
    "knn.fit(X_train, y_train)\n",
    "\n",
    "score_names = [\n",
    "    \"r2\",\n",
    "    \"neg_mean_absolute_error\",\n",
    "    \"neg_root_mean_squared_error\",\n",
    "    \"neg_mean_absolute_percentage_error\",\n",
    "]\n",
    "for name in score_names:\n",
    "    scorer = get_scorer(name)\n",
    "    print(name, \" : \", scorer(knn, X_test, y_test))"
   ]
  },
  {
   "cell_type": "markdown",
   "metadata": {},
   "source": [
    "# Test using df_forecast\n"
   ]
  },
  {
   "cell_type": "markdown",
   "metadata": {},
   "source": []
  }
 ],
 "metadata": {
  "kernelspec": {
   "display_name": "automl",
   "language": "python",
   "name": "python3"
  },
  "language_info": {
   "codemirror_mode": {
    "name": "ipython",
    "version": 3
   },
   "file_extension": ".py",
   "mimetype": "text/x-python",
   "name": "python",
   "nbconvert_exporter": "python",
   "pygments_lexer": "ipython3",
   "version": "3.9.20"
  }
 },
 "nbformat": 4,
 "nbformat_minor": 2
}
